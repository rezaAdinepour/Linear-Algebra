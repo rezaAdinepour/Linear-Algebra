{
  "cells": [
    {
      "cell_type": "markdown",
      "metadata": {
        "id": "view-in-github",
        "colab_type": "text"
      },
      "source": [
        "<a href=\"https://colab.research.google.com/github/rezaAdinepour/Linear-Algebra/blob/main/LinearAlgebra.ipynb\" target=\"_parent\"><img src=\"https://colab.research.google.com/assets/colab-badge.svg\" alt=\"Open In Colab\"/></a>"
      ]
    },
    {
      "cell_type": "markdown",
      "metadata": {
        "id": "RWK755-FnxSb"
      },
      "source": [
        "<font face=\"Calibri\" size=5><div dir=rtl align=center>\n",
        "<font face=\"IranNastaliq\" size=5>\n",
        "به نام خدا\n",
        "</font>\n",
        "<br>\n",
        "<font size=3>\n",
        "دانشگاه صنعتی شاهرود - دانشکده مهندسی برق\n",
        "</font>\n",
        "<br>\n",
        "<font color=blue size=5>\n",
        "جبر خطی\n",
        "</font>\n",
        "\n",
        "<hr/>\n",
        "<font color=red size=6>\n",
        "فصل اول: مروری بر پایتون و مباحث پایه ای\n",
        "<br>\n",
        "جبرخطی\n",
        "<br>\n",
        "</font>\n",
        "استاد درس: جناب آقای دکتر جواد کیقبادی\n",
        "<br>\n",
        "تهیه کننده: رضا آدینه پور\n",
        "<hr>\n",
        "</div></font>"
      ]
    },
    {
      "cell_type": "markdown",
      "source": [
        "<font face=\"Calibri\" size=4><div dir=rtl>\n",
        "<font color=\"red\" size=5>1. پایتون</font>\n",
        "<br>\n",
        "در این قسمت مرور سریعی بر پایتون داریم\n",
        "</div></font>"
      ],
      "metadata": {
        "id": "xXEOWoyETOh6"
      }
    },
    {
      "cell_type": "markdown",
      "source": [
        "<font face=\"Calibri\" size=4><div dir=rtl>\n",
        "<font color=\"red\" size=5>1.1 فراخوانی کتابخانه های مورد نیاز</font>\n",
        "<br>\n",
        "بدون شک، مهمترین کتابخانه ای که برای محاسبات ماتریسی در پایتون وجود دارد، numpy و sympy است\n",
        "\n",
        "</div></font>"
      ],
      "metadata": {
        "id": "Sycq9KhxTcqj"
      }
    },
    {
      "cell_type": "code",
      "source": [
        "import numpy as np  # or import numpy\n",
        "import sympy as sp"
      ],
      "metadata": {
        "id": "4UvxPBuvUATi"
      },
      "execution_count": 5,
      "outputs": []
    },
    {
      "cell_type": "markdown",
      "source": [
        "<font face=\"Calibri\" size=4><div dir=rtl>\n",
        "<font color=\"red\" size=5>1.2 چاپ اطلاعات و دریافت ورودی از کاربر</font>\n",
        "<br>\n",
        "دقت شود که خروجی تابع input، رشته است\n",
        "<br>\n",
        "برای تبدیل رشته به عدد integer، از تابع ()int استفاده میکنیم.\n",
        "\n",
        "</div></font>"
      ],
      "metadata": {
        "id": "IN9y5eMWUcC3"
      }
    },
    {
      "cell_type": "code",
      "source": [
        "id_str = input('enter your student id: ')\n",
        "print(id_str)\n",
        "print(type(id_str))\n",
        "\n",
        "id_int = int(id_str)\n",
        "print(type(id_int))"
      ],
      "metadata": {
        "colab": {
          "base_uri": "https://localhost:8080/"
        },
        "id": "Grs9jAewU35B",
        "outputId": "72f401ae-ad83-46f4-d14c-4da55d4203ed"
      },
      "execution_count": null,
      "outputs": [
        {
          "output_type": "stream",
          "name": "stdout",
          "text": [
            "enter your student id: 9814303\n",
            "9814303\n",
            "<class 'str'>\n",
            "9814303\n",
            "<class 'int'>\n"
          ]
        }
      ]
    },
    {
      "cell_type": "markdown",
      "metadata": {
        "id": "ffDQcr6isJk4"
      },
      "source": [
        "<font face=\"Calibri\" size=4><div dir=rtl>\n",
        "<font color=\"red\" size=5>2. جبرخطی</font>\n",
        "<br>\n",
        "در اینجا به یادآوری کوتاهی از جبرخطی در راستای اهداف درس می پردازیم\n",
        "</div></font>"
      ]
    },
    {
      "cell_type": "markdown",
      "metadata": {
        "id": "O70q6bhSv_lt"
      },
      "source": [
        "<font face=\"Calibri\" size=4><div dir=rtl>\n",
        "<font color=\"red\" size=5>2.1. بردارها و فضای برداری</font>\n",
        "<br>\n",
        "به یک n تایی به صورت\n",
        "$X = [x_1, x_2, ⋯ , x_n]$\n",
        "یک \n",
        "<b>بردار سطری</b>\n",
        " گفته می شود و می گوییم X یک بردار \n",
        "$1 × n$\n",
        "است.\n",
        "<br>\n",
        "مشابها یک n تایی به صورت\n",
        "$Y = \\begin{bmatrix}\n",
        "x_1 \\\\\n",
        "x_2 \\\\\n",
        "\\vdots \\\\\n",
        "x_n\n",
        "\\end{bmatrix}\n",
        "$\n",
        "<b>بردار ستونی</b>\n",
        "$n \\times 1$\n",
        "است.\n",
        "<br>\n",
        "در ادامه به عنوان مثال بردارهای ستونی و سطری تولید می کنیم و شیوه دسترسی به المان\n",
        "آن‎ها\n",
        "را نشان می دهیم.\n",
        "\n",
        "یک بردار به طور کلی به صورت زیر تعریف می شود:\n",
        "</div></font>"
      ]
    },
    {
      "cell_type": "code",
      "execution_count": null,
      "metadata": {
        "colab": {
          "base_uri": "https://localhost:8080/"
        },
        "id": "L-6KX-pm0eAv",
        "outputId": "1972e137-0c6c-4fdf-b5ad-8f36e47967d9"
      },
      "outputs": [
        {
          "output_type": "stream",
          "name": "stdout",
          "text": [
            "[[1 5 4]]\n",
            "shape of vector X: (1, 3)\n",
            "[[1]\n",
            " [5]\n",
            " [4]]\n",
            "shape of vector Y: (3, 1)\n",
            "[[1]\n",
            " [5]\n",
            " [4]]\n",
            "shape of vector XT: (3, 1)\n"
          ]
        }
      ],
      "source": [
        "import numpy as np\n",
        "X = np.array( [1, 5, 4] )[np.newaxis]\n",
        "Y = np.array( [ [1], [5], [4] ] )\n",
        "XT = X.T # or X.transpose()\n",
        "print(X)\n",
        "print('shape of vector X: {}' .format(X.shape))\n",
        "print(Y)  \n",
        "print('shape of vector Y: {}' .format(Y.shape))\n",
        "print(XT)\n",
        "print('shape of vector XT: {}' .format(Y.shape))"
      ]
    },
    {
      "cell_type": "markdown",
      "source": [
        "<font face=\"Calibri\" size=4><div dir=rtl>\n",
        "<br>\n",
        "برای تولید یک دنباله با قدر نسبت مشخص می توان به صورت زیر عمل کرد\n",
        "</div></font>"
      ],
      "metadata": {
        "id": "1aRljeqDZ4PA"
      }
    },
    {
      "cell_type": "code",
      "source": [
        "a = np.arange(1, 2, 0.1) #np.arange(lower limit, upper limit, step)\n",
        "print(a)"
      ],
      "metadata": {
        "colab": {
          "base_uri": "https://localhost:8080/"
        },
        "id": "2VadvUrAaKI0",
        "outputId": "0e8a7d94-40ad-4117-c6ac-ad897885dffe"
      },
      "execution_count": null,
      "outputs": [
        {
          "output_type": "stream",
          "name": "stdout",
          "text": [
            "[1.  1.1 1.2 1.3 1.4 1.5 1.6 1.7 1.8 1.9]\n",
            "(10,)\n"
          ]
        }
      ]
    },
    {
      "cell_type": "markdown",
      "source": [
        "<font face=\"Calibri\" size=4><div dir=rtl>\n",
        "<br>\n",
        "دسترسی به المان های یک بردار به صورت زیر انجام میشود\n",
        "<br>\n",
        "برخلاف متلب، در پایتون اندیس ها از صفر شروع میشود\n",
        "\n",
        "</div></font>"
      ],
      "metadata": {
        "id": "AYXZ75RgbSjb"
      }
    },
    {
      "cell_type": "code",
      "source": [
        "X = np.array([1, 5, 10, 15])\n",
        "print('first element: {}' .format(X[0]))\n",
        "print('second element: {}' .format(X[1]))\n",
        "print('last element: {}' .format(X[-1]))"
      ],
      "metadata": {
        "colab": {
          "base_uri": "https://localhost:8080/"
        },
        "id": "r3-1qidzbgFp",
        "outputId": "664a22cd-a932-49a4-dfed-8b527eca4506"
      },
      "execution_count": null,
      "outputs": [
        {
          "output_type": "stream",
          "name": "stdout",
          "text": [
            "first element: 1\n",
            "second element: 5\n",
            "last element: 15\n"
          ]
        }
      ]
    },
    {
      "cell_type": "markdown",
      "metadata": {
        "id": "1BtEtjwQ7wg6"
      },
      "source": [
        "<font face=\"Calibri\" size=4><div dir=rtl>\n",
        "\n",
        "یک \n",
        "<b>فضای برداری</b>\n",
        " مجموعه ای مانند\n",
        "$S$\n",
        "است که عناصر آن بردار هستند. اعمال جمع و ضرب اسکالری برای این عناصر تعریف می شود که در شرایط ذیل صدق می کنند.(\n",
        "$U$\n",
        "،\n",
        "$V$\n",
        "و \n",
        "$W$\n",
        "عناصر دلخواه\n",
        "$S$\n",
        "،\n",
        "$c$\n",
        "و\n",
        "$d$\n",
        "اسکالر هستند)\n",
        "\n",
        "1. حاصل جمع U + V وجود دارد و متعلق به S است.( S تحت جمع بسته است)\n",
        "\n",
        "2. $cU$\n",
        "    عنصری از S است.(S تحت ضرب اسکالر بسته است.)\n",
        "\n",
        "3. $U+V=V+U$\n",
        "    (ویژگی جابجایی)\n",
        "\n",
        "4. $U+(V+W)=(U+V)+W$\n",
        "    (ویژگی شرکت پذیری)\n",
        "\n",
        "5. عنصری از\n",
        "    V،\n",
        "    که بردار صفر نامیده می شود، با\n",
        "    0\n",
        "  نشان داده می شود، وجود دارد به قسمی که\n",
        "  $U+0=U$\n",
        "\n",
        "6. متناظر هر عنصر U از S عنصری وجود دارد که قرینه U نامیده و با U− نشان داده می شود به قسمی که:\n",
        "$$U+(-U)=0$$\n",
        "\n",
        "7. $ⅽ(U + V) = ⅽU + ⅽV$\n",
        "\n",
        "8. $(ⅽ + ⅾ)U = ⅽU + ⅾU$\n",
        "\n",
        "9. $ⅽ(ⅾU) = (ⅽⅾ)U$\n",
        "\n",
        "10. $۱U = U$\n",
        "\n",
        "فضاهای برداری می توانند شامل فضاهای برداری دیگری نیز باشند. اگر\n",
        "$V$\n",
        "یک فضای برداری باشد آنگاه\n",
        "$S \\subseteq V$\n",
        "یک \n",
        "<b>زیرفضای</b>\n",
        " V نامیده می شود اگر:\n",
        "\n",
        "1. $0 \\in S$\n",
        "2. S تحت جمع بسته باشد:\n",
        "$x,y \\in S ⇒ x+y \\in S$\n",
        "3. S تحت ضرب اسکالر بسته باشد:\n",
        "$x \\in S, α \\in \\mathbf{R} ⇒ αS \\in S$\n",
        "\n",
        "به عنوان مثال یک خط که از مبدا می گذرد زیر فضای \n",
        "$R^2$\n",
        "است.\n",
        "\n",
        "فرض کنیم\n",
        "$V_1,V_2,\\cdots,V_m$\n",
        "بردارهایی در فضای برداری S باشند. گوییم\n",
        "$V$،\n",
        "برداری در\n",
        "$S$،\n",
        "یک \n",
        "<b>ترکیب خطی</b>\n",
        " از\n",
        "$V_1,V_2,\\cdots,V_m$\n",
        "است هرگاه اسکالرهایی چون\n",
        "$c_1,c_2,\\cdots,c_m$\n",
        "موجود باشند به قسمی که V را بتوان چنین نوشت:\n",
        "$$V=c_1V_1+c_2V_2+\\cdots+c_mV_m$$\n",
        "\n",
        "مجموعه بردارهای\n",
        "$V_1,V_2,\\cdots,V_m$\n",
        "از یک فضای برداری را وقتی یک \n",
        "<b>مولد</b>\n",
        " این فضا می نامیم که هر بردار فضا ترکیبی از این بردارها باشد. یک مجموعه مولد از بردارها به یک معنی فضای برداری مربوطه را معرفی می کند زیر هر بردار آن فضا را می توان از این بردار ها بدست آورد.\n",
        "\n",
        "مجموعه بردارهای\n",
        "${V_1,V_2,\\cdots,V_n}$\n",
        "را \n",
        "<b>مستقل خطی</b>\n",
        " گوییم هرگاه از معادله\n",
        "$$c_1V_1+c_2V_2+\\cdots+c_nV_n=0\\qquad(1)$$\n",
        "نتیجه شود که\n",
        "$$c_1=c_2=\\cdots=c_n=0$$\n",
        "چنانچه حداقل یک\n",
        "$c_i\\neq0$\n",
        "وجود داشته باشد که معادله (1) برقرار باشد گوییم مجموعه بردارهای\n",
        "${V_1,V_2,\\cdots,V_n}$\n",
        "وابسته خطی هستند.\n",
        "\n",
        "مجموعه ای متناهی از بردارها مانند\n",
        "$\\lbrace V_1,\\cdots,V_m \\rbrace$\n",
        "را یک \n",
        "<b>پایه</b>\n",
        " فضای برداری\n",
        "$S$\n",
        "نامیم هرگاه این مجموعه مولد\n",
        "$S$\n",
        "و مستقل خطی باشد.\n",
        "\n",
        "<b>مثال)</b>\n",
        "آیا بردارهای\n",
        "$\\lbrace (1,-1,1),(-1,-1,1),(0,1,1) \\rbrace$\n",
        "برای\n",
        "$\\mathbf{R}^3$\n",
        "پایه هستند؟\n",
        "\n",
        "\n",
        "<b>حل)</b>\n",
        "\n",
        "اسکالرهای\n",
        "$c_1,c_2,c_3$\n",
        "باید وجود داشته باشند که\n",
        "$$c_1(1,-1,1)+c_2(-1,-1,1)+c_3(0,1,1)=(x_1,x_2,x_3)$$\n",
        "\\begin{equation*}\n",
        "\\Rightarrow\n",
        "\\begin{cases}\n",
        "c_1-c_2=x_1 \\\\\n",
        "-c_1-c_2+c_3=x_2 \\\\\n",
        "c_1+c_2+c_3=x_3\n",
        "\\end{cases}\n",
        "\\Rightarrow\n",
        "\\begin{cases}\n",
        "c_1=\\frac{2x_1-x_2+x_3}{4} \\\\\n",
        "c_2=\\frac{-2x_1-x_2+x_3}{4} \\\\\n",
        "c_3=\\frac{x_2+x_3}{2}\n",
        "\\end{cases}\n",
        "\\end{equation*}\n",
        "اکنون مستقل خطی بودن را بررسی می کنیم\n",
        "$$b_1(1,-1,1)+b_2(-1,-1,1)+b_3(0,1,1)=0$$\n",
        "\\begin{equation*}\n",
        "\\Rightarrow\n",
        "\\begin{cases}\n",
        "b_1-b_2=0 \\\\\n",
        "-b_1-b_2+b_3=0 \\\\\n",
        "b_1+b_2+b_3=0\n",
        "\\end{cases}\n",
        "\\qquad\\Rightarrow\n",
        "b_1=b_2=b_3=0\n",
        "\\end{equation*}\n",
        "پس این مجموعه بردارها پایه\n",
        "$\\mathbf{R}^3$\n",
        "هستند.\n",
        "\n",
        "</div></font>"
      ]
    },
    {
      "cell_type": "markdown",
      "metadata": {
        "id": "ZdH-cK3VwkLQ"
      },
      "source": [
        "<font face=\"Calibri\" size=4><div dir=rtl>\n",
        "<font color=\"red\" size=5>2.2. ماتریس‎ها</font>\n",
        "<br>\n",
        "یک ماتریس مجموعه ای از بردارها است مثلا اگر\n",
        "$$\n",
        "A=\n",
        "\\begin{bmatrix}\n",
        "1 & 2 & 9\\\\\n",
        "0 & -1 & 6\\\\\n",
        "1 & 2 & 7\\\\\n",
        "\\end{bmatrix}_{3\\times 3},\\qquad\n",
        "B=\n",
        "\\begin{bmatrix}\n",
        "1 & 1\\\\\n",
        "1 & 1\\\\\n",
        "\\end{bmatrix}_{2\\times 2}\n",
        "$$\n",
        "$$\n",
        "C=\n",
        "\\begin{bmatrix}\n",
        "1 & 2 & 3\\\\\n",
        "4 & 5 & 6\\\\\n",
        "\\end{bmatrix}_{2\\times 3},\\qquad\n",
        "D=\n",
        "\\begin{bmatrix}\n",
        "1 & 9\\\\\n",
        "-1 & 0\\\\\n",
        "2 & 6\\\\\n",
        "\\end{bmatrix}_{3\\times 2}\n",
        "$$\n",
        "آنگاه:\n",
        "\t\n",
        "A ماتریسی است که 3 سطر و 3 ستون دارد\n",
        "\n",
        "B ماتریسی است که 2 سطر و 2 ستون دارد\n",
        "\n",
        "C ماتریسی است که 2 سطر و 3 ستون دارد\n",
        "\n",
        "D ماتریسی است که 3 سطر و 2 ستون دارد\n",
        "\n",
        "<br>\n",
        "در ادامه یک نمونه ماتریس تولید می کنیم.\n",
        "</div></font>"
      ]
    },
    {
      "cell_type": "code",
      "execution_count": null,
      "metadata": {
        "colab": {
          "base_uri": "https://localhost:8080/"
        },
        "id": "fPFYdQs74BaH",
        "outputId": "25519888-8336-40a6-8888-6af384c705e3"
      },
      "outputs": [
        {
          "output_type": "stream",
          "name": "stdout",
          "text": [
            "[[ 1  5  8]\n",
            " [ 5  7  9]\n",
            " [10 41 73]]\n",
            "(3, 3)\n"
          ]
        }
      ],
      "source": [
        "A = np.array([ [1, 5, 8],\n",
        "               [5, 7, 9], \n",
        "               [10, 41, 73] ])\n",
        "\n",
        "print(A)\n",
        "print(A.shape)"
      ]
    },
    {
      "cell_type": "markdown",
      "source": [
        "<font face=\"Calibri\" size=4><div dir=rtl>\n",
        "<br>\n",
        "می توان بردار ها را به ماتریس تبدیل کرد\n",
        "</div></font>"
      ],
      "metadata": {
        "id": "uJpmT0KZczWu"
      }
    },
    {
      "cell_type": "code",
      "source": [
        "A = np.arange(6)\n",
        "print(A)\n",
        "print(A.shape)\n",
        "B = A.reshape(2, 3)\n",
        "print(B)\n",
        "print(B.shape)"
      ],
      "metadata": {
        "colab": {
          "base_uri": "https://localhost:8080/"
        },
        "id": "vbXw7dqjc6vp",
        "outputId": "d5e2028f-8ecc-4da6-9a88-4b74d80c2dce"
      },
      "execution_count": null,
      "outputs": [
        {
          "output_type": "stream",
          "name": "stdout",
          "text": [
            "[0 1 2 3 4 5]\n",
            "(6,)\n",
            "[[0 1 2]\n",
            " [3 4 5]]\n",
            "(2, 3)\n"
          ]
        }
      ]
    },
    {
      "cell_type": "markdown",
      "metadata": {
        "id": "S_xNi8gk4zfv"
      },
      "source": [
        "<font face=\"Calibri\" size=4><div dir=rtl>\n",
        "\n",
        "<b>ترانهاده</b>\n",
        " ماتریس A را با\n",
        "$A^T$\n",
        "نمایش می دهیم که از جابجایی سطرها و ستون‎های آن ایجاد می شود پس اگر\n",
        "$$\n",
        "A=\n",
        "\\begin{bmatrix}\n",
        "1&3&6 \\\\\n",
        "7&2&-4 \\\\\n",
        "\\end{bmatrix}\n",
        "$$\n",
        "آنگاه\n",
        "$$\n",
        "A^T=\n",
        "\\begin{bmatrix}\n",
        "1&7 \\\\\n",
        "3&2 \\\\\n",
        "6&-4 \\\\\n",
        "\\end{bmatrix}\n",
        "$$\n",
        "\n",
        "در ادامه برابری ترانهاده یک ماتریس متقارن با خودش را بررسی می کنیم\n",
        "</div></font>"
      ]
    },
    {
      "cell_type": "code",
      "execution_count": null,
      "metadata": {
        "colab": {
          "base_uri": "https://localhost:8080/"
        },
        "id": "iCuQMAVb5P-E",
        "outputId": "3929424e-c2b8-4332-9293-5b61e9459b6c"
      },
      "outputs": [
        {
          "output_type": "stream",
          "name": "stdout",
          "text": [
            "[[1 2 3]\n",
            " [2 0 4]\n",
            " [3 4 5]]\n",
            "----------\n",
            "[[1 2 3]\n",
            " [2 0 4]\n",
            " [3 4 5]]\n",
            "----------\n",
            "[[ True  True  True]\n",
            " [ True  True  True]\n",
            " [ True  True  True]]\n"
          ]
        }
      ],
      "source": [
        "A = np.array([ [1, 2, 3],\n",
        "               [2, 0, 4], \n",
        "               [3, 4, 5] ])\n",
        "print(A)\n",
        "print('-'*10)\n",
        "print(A.T)\n",
        "print('-'*10)\n",
        "print(A == A.T)"
      ]
    },
    {
      "cell_type": "markdown",
      "source": [
        "<font face=\"Calibri\" size=4><div dir=rtl>\n",
        "<font color=\"red\" size=5>2.3 ماتریس های مختلط</font>\n",
        "<br>\n",
        "</div></font>"
      ],
      "metadata": {
        "id": "S9KSNJxygVqX"
      }
    },
    {
      "cell_type": "code",
      "source": [
        "a = np.array([ [4+10j, 2, 7],\n",
        "               [4-2j, -1j, -1+3j],\n",
        "               [1, 7, 0] ])\n",
        "\n",
        "a_absolute = np.abs(a)\n",
        "a_angle = np.angle(a)\n",
        "a_conjugate = np.conj(a)\n",
        "a_real = np.real(a)\n",
        "a_imag = np.imag(a)\n",
        "\n",
        "print('matrix A: ')\n",
        "print(a)\n",
        "print('-'*50)\n",
        "\n",
        "print('Absolute of A: ')\n",
        "print(a_absolute)\n",
        "print('-'*50)\n",
        "\n",
        "print('Angle A(in radian): ')\n",
        "print(a_angle) #in radian\n",
        "print('-'*50)\n",
        "\n",
        "print('Angle A(in degree): ')\n",
        "print(a_angle * 180/np.pi) #in degre\n",
        "print('-'*50)\n",
        "\n",
        "print('conjugate of A:')\n",
        "print(a_conjugate)\n",
        "print('-'*50)\n",
        "\n",
        "print('Real part of A:')\n",
        "print(a_real)\n",
        "print('-'*50)\n",
        "\n",
        "print('Imaginary part of A:')\n",
        "print(a_imag)\n",
        "print('-'*50)\n"
      ],
      "metadata": {
        "colab": {
          "base_uri": "https://localhost:8080/"
        },
        "id": "s_kaY43AgkIk",
        "outputId": "4058de89-4153-43d6-9151-b2ff78b989b9"
      },
      "execution_count": null,
      "outputs": [
        {
          "output_type": "stream",
          "name": "stdout",
          "text": [
            "matrix A: \n",
            "[[ 4.+10.j  2. +0.j  7. +0.j]\n",
            " [ 4. -2.j -0. -1.j -1. +3.j]\n",
            " [ 1. +0.j  7. +0.j  0. +0.j]]\n",
            "--------------------------------------------------\n",
            "Absolute of A: \n",
            "[[10.77032961  2.          7.        ]\n",
            " [ 4.47213595  1.          3.16227766]\n",
            " [ 1.          7.          0.        ]]\n",
            "--------------------------------------------------\n",
            "Angle A(in radian): \n",
            "[[ 1.19028995  0.          0.        ]\n",
            " [-0.46364761 -1.57079633  1.89254688]\n",
            " [ 0.          0.          0.        ]]\n",
            "--------------------------------------------------\n",
            "Angle A(in degree): \n",
            "[[ 68.19859051   0.           0.        ]\n",
            " [-26.56505118 -90.         108.43494882]\n",
            " [  0.           0.           0.        ]]\n",
            "--------------------------------------------------\n",
            "conjugate of A:\n",
            "[[ 4.-10.j  2. -0.j  7. -0.j]\n",
            " [ 4. +2.j -0. +1.j -1. -3.j]\n",
            " [ 1. -0.j  7. -0.j  0. -0.j]]\n",
            "--------------------------------------------------\n",
            "Real part of A:\n",
            "[[ 4.  2.  7.]\n",
            " [ 4. -0. -1.]\n",
            " [ 1.  7.  0.]]\n",
            "--------------------------------------------------\n",
            "Imaginary part of A:\n",
            "[[10.  0.  0.]\n",
            " [-2. -1.  3.]\n",
            " [ 0.  0.  0.]]\n",
            "--------------------------------------------------\n"
          ]
        }
      ]
    },
    {
      "cell_type": "markdown",
      "source": [
        "<font face=\"Calibri\" size=4><div dir=rtl>\n",
        "<font color=\"red\" size=5>2.4 جمع ماتریسها</font>\n",
        "<br>\n",
        "</div></font>"
      ],
      "metadata": {
        "id": "pahRbKXQeoHL"
      }
    },
    {
      "cell_type": "code",
      "source": [
        "a = np.array([ [1, 2],\n",
        "               [2, 3] ])\n",
        "b1 = np.array([3])\n",
        "b2 = np.array([4, 5])[np.newaxis]\n",
        "\n",
        "print(a+b1)\n",
        "print('-'*10)\n",
        "print(a+b2)\n",
        "print('-'*10)\n",
        "print(a+b2.T)"
      ],
      "metadata": {
        "colab": {
          "base_uri": "https://localhost:8080/"
        },
        "id": "sKtgW6iLeyLm",
        "outputId": "4de80e9b-157f-4938-8f05-054e9f197b3d"
      },
      "execution_count": null,
      "outputs": [
        {
          "output_type": "stream",
          "name": "stdout",
          "text": [
            "[[4 5]\n",
            " [5 6]]\n",
            "----------\n",
            "[[5 7]\n",
            " [6 8]]\n",
            "----------\n",
            "[[5 6]\n",
            " [7 8]]\n"
          ]
        }
      ]
    },
    {
      "cell_type": "markdown",
      "source": [
        "<font face=\"Calibri\" size=4><div dir=rtl>\n",
        "<font color=\"red\" size=5>2.5 ضرب ماتریسها</font>\n",
        "<br>\n",
        "ضرب ماتریسی، مشابه با عملگر * در متلب\n",
        "</div></font>"
      ],
      "metadata": {
        "id": "JyEoyHYmhs6l"
      }
    },
    {
      "cell_type": "code",
      "source": [
        "A = np.array([ [1, 2, 3],\n",
        "               [2, 0, 4], \n",
        "               [3, 4, 5] ])\n",
        "B = np.array([2, 7, 15])[np.newaxis].T\n",
        "C = np.dot(A, B)\n",
        "print(C)"
      ],
      "metadata": {
        "colab": {
          "base_uri": "https://localhost:8080/"
        },
        "id": "EvCO_8FJiUev",
        "outputId": "dc4fec7f-062e-496f-d703-019e2490a457"
      },
      "execution_count": null,
      "outputs": [
        {
          "output_type": "stream",
          "name": "stdout",
          "text": [
            "[[ 61]\n",
            " [ 64]\n",
            " [109]]\n"
          ]
        }
      ]
    },
    {
      "cell_type": "markdown",
      "source": [
        "<font face=\"Calibri\" size=4><div dir=rtl>\n",
        "<font color=\"red\" size=5>2.6 ضرب درایه به درایه</font>\n",
        "<br>\n",
        "مشابه با عملگر *. در متلب\n",
        "</div></font>"
      ],
      "metadata": {
        "id": "J_Ihcl4MkBhL"
      }
    },
    {
      "cell_type": "code",
      "source": [
        "A = np.array([ [1, 2, 3],\n",
        "               [2, 0, 4], \n",
        "               [3, 4, 5] ])\n",
        "B = np.array([2, 7, 15])\n",
        "BB = np.array([2, 7, 15])[np.newaxis].T\n",
        "C = A * B\n",
        "CC = A * BB\n",
        "print(C)\n",
        "print('-'*10)\n",
        "print(CC)"
      ],
      "metadata": {
        "colab": {
          "base_uri": "https://localhost:8080/"
        },
        "id": "EgKk5FU0kG1p",
        "outputId": "d4f79649-40c3-422b-ae76-850c1944f289"
      },
      "execution_count": null,
      "outputs": [
        {
          "output_type": "stream",
          "name": "stdout",
          "text": [
            "[[ 2 14 45]\n",
            " [ 4  0 60]\n",
            " [ 6 28 75]]\n",
            "----------\n",
            "[[ 2  4  6]\n",
            " [14  0 28]\n",
            " [45 60 75]]\n"
          ]
        }
      ]
    },
    {
      "cell_type": "code",
      "source": [
        "A = np.array([ [1, 2, 3],\n",
        "               [2, 0, 4], \n",
        "               [3, 4, 5] ])\n",
        "\n",
        "B = np.array([ [2, 7, 6],\n",
        "               [4, 7, 9],\n",
        "               [7, 5, 0] ])\n",
        "C = A * B\n",
        "print(C)"
      ],
      "metadata": {
        "colab": {
          "base_uri": "https://localhost:8080/"
        },
        "id": "t5zUGb8lkuw-",
        "outputId": "ed67786d-a298-40f3-f8c0-980c82d2f861"
      },
      "execution_count": null,
      "outputs": [
        {
          "output_type": "stream",
          "name": "stdout",
          "text": [
            "[[ 2 14 18]\n",
            " [ 8  0 36]\n",
            " [21 20  0]]\n"
          ]
        }
      ]
    },
    {
      "cell_type": "markdown",
      "metadata": {
        "id": "vsEak2-VJnoD"
      },
      "source": [
        "<font face=\"Calibri\" size=4><div dir=rtl>\n",
        "<font color=\"red\" size=5>2.7 ضرب داخلی یا Inner Product<br></font>\n",
        "یکی از اساسی ترین عملیات‎ها در جبرخطی ضرب نقطه ای (Dot Product)\n",
        "یا ضرب داخلی (Inner Product)\n",
        "می باشد. فرض کنید\n",
        "$\\mathbf{x}, \\mathbf{y} \\in \\mathbb{R}^d$\n",
        "در این صورت تعریف می کنیم:\n",
        "$$\\langle \\mathbf{x}, \\mathbf{y} \\rangle = \\mathbf{x}^\\top \\mathbf{y} = \\sum_{i=1}^{d} x_i y_i$$\n",
        "\n",
        "به عبارت دیگر ضرب داخلی روی فضای برداری V تابعی است به فرم\n",
        "$⟨ .,. ⟩ : \\mathbf{V \\times V} → \\mathbf{R}$\n",
        "که در شرایط زیر صدق می کند:\n",
        "1. $⟨ X,X ⟩ ≥ 0$\n",
        "2. $⟨ X,X ⟩=0 ⇔ X=0$\n",
        "3. $⟨ X+Y,Z ⟩ = ⟨ X,Z ⟩ + ⟨ Y,Z ⟩$\n",
        "4. $⟨ α X,Z ⟩ = α ⟨ X,Z ⟩$\n",
        "5. $⟨ X,Y ⟩ = ⟨ Y,X ⟩$\n",
        "\n",
        "همانطور که در ادامه می بینیم V یک فضای متریک محسوب می شود.\n",
        "\n",
        "یکی از کاربردهای ضرب نقطه ای محاسبه میانگین وزن دار است. فرض کنید\n",
        "$\\mathbf{x} \\in \\mathbb{R}^n,\\; \\mathbf{w} \\in \\mathbb{R}^n,\\; \\sum_{i=1}^{n} {w_i} = 1$ که x بردار مقادیر و w بردار وزن‎های نامنفی مقادیر است در این صورت\n",
        "$\\mathbf{x}^\\top \\mathbf{w}$\n",
        "همان میانگین وزن دار است.\n",
        "\n",
        "مثال:\n",
        "\n",
        "</div></font>"
      ]
    },
    {
      "cell_type": "code",
      "execution_count": null,
      "metadata": {
        "colab": {
          "base_uri": "https://localhost:8080/"
        },
        "id": "f-9X1tR8Laxc",
        "outputId": "b945ef28-df39-41ec-bcd7-e5cfed56bbbb"
      },
      "outputs": [
        {
          "name": "stdout",
          "output_type": "stream",
          "text": [
            "0.8\n",
            "0.8\n"
          ]
        }
      ],
      "source": [
        "x = np.arange(3, dtype=np.float32)\n",
        "w = np.array([0.5,0.2,0.3])\n",
        "print(np.dot(x, w)) # method 1\n",
        "print(np.sum(x * w)) # method 2"
      ]
    },
    {
      "cell_type": "markdown",
      "source": [
        "<font face=\"Calibri\" size=4><div dir=rtl>\n",
        "<font color=\"red\" size=5>3. دترمینان ماتریس ها</font>\n",
        "<br>\n",
        "\n",
        "</div></font>"
      ],
      "metadata": {
        "id": "h_gUS4pwm7dW"
      }
    },
    {
      "cell_type": "markdown",
      "metadata": {
        "id": "DQCQBxSnwkaL"
      },
      "source": [
        "<font face=\"XB Zar\" size=4><div dir=rtl>\n",
        "\n",
        "<b>دترمینان</b>\n",
        " ماتریس\n",
        "$2 \\times 2$،\n",
        "A\n",
        "را با\n",
        "$det(A)$\n",
        "نشان داده و به صورت زیر تعریف می کنیم:\n",
        "$$det \\left( \n",
        "\\begin{bmatrix}\n",
        "a_{11}&a_{12} \\\\\n",
        "a_{21}&a_{22} \\\\\n",
        "\\end{bmatrix} \\right) =\n",
        "a_{11} a_{22} - a_{12} a_{21}\n",
        " $$\n",
        "\n",
        "<b>کهاد</b>\n",
        " درایه\n",
        "$a_{ij}$\n",
        "را با\n",
        "$M_{ij}$\n",
        "نشان می دهیم و عبارت است از دترمینان ماتریس حاصل از حذف ماتریس\n",
        "ردیف i\n",
        "ام و ستون j\n",
        "ام ماتریس A\n",
        ".\n",
        "\n",
        "<b>همسازه</b>\n",
        " درایه\n",
        "$a_{ij}$\n",
        "را با\n",
        "$C_{ij}$\n",
        "نشان می دهیم و به صورت زیر تعریف می کنیم:\n",
        "$$C_{ij} = (-1)^{i+j} M_{ij}$$ \n",
        "\n",
        "توجه کنید که کهاد و همسازه یک درایه حداکثر تفاوتشان در یک علامت است.\n",
        "$$C_{ij} = + M_{ij} \\; \\text{یا} \\; -M_{ij}$$\n",
        "\n",
        " <b>مثال)</b>\n",
        " کهاد و همسازه درایه های \n",
        "$a_{12}, a_{33}$\n",
        "را برای ماتریس زیر بدست آورید\n",
        "$$\n",
        "A=\n",
        "\\begin{bmatrix}\n",
        "2&-1&5 \\\\\n",
        "0&3&4 \\\\\n",
        "2&2&-2 \\\\\n",
        "\\end{bmatrix}\n",
        "$$\n",
        "\n",
        "<b>حل:</b>\n",
        "با بکارگیری تعریف اخیر داریم\n",
        "  \\begin{align*}\n",
        "    M_{12} &= \n",
        "det \\left( \n",
        "\\begin{bmatrix}\n",
        "0&4 \\\\\n",
        "2&-2 \\\\\n",
        "\\end{bmatrix} \\right) = 0 \\times (-2) - (4 \\times 2) = -8 \\\\\n",
        "    C_{12} &= (-1)^{1+2} M_{12} = -1 \\times -8 = 8 \\\\\n",
        "    M_{33}&= det \\left( \n",
        "\\begin{bmatrix}\n",
        "2&-1 \\\\\n",
        "0&3 \\\\\n",
        "\\end{bmatrix} \\right) = 2 \\times 3 - (-1) \\times 0 = 6 \\\\\n",
        "    C_{33}&= (-1)^{3+3} M_{33} = 1 \\times 6 = 6 \\\\\n",
        "  \\end{align*}\n",
        "\n",
        "  دترمینان ماتریس مربعی A برابر است با مجموع حاصل ضرب درایه های هر سطر یا هر ستون در همسازه مربوط به آن درایه. بنابراین دترمینان ماتریس A برحسب  بسط سطر i\n",
        "ام برابر است با\n",
        "$$det(A)=a_{i1}C_{i1}+a_{i2}C_{i2}+\\cdots+a_{in}C_{in}$$  \n",
        "\n",
        "<b>مثال)</b>\n",
        "مطلوب است محاسبه دترمینان ماتریس A برحسب\n",
        "$$\n",
        "A=\n",
        "\\begin{bmatrix}\n",
        "1&0&3 \\\\\n",
        "13&-2&5 \\\\\n",
        "-1&1&0 \\\\\n",
        "\\end{bmatrix}\n",
        "$$\n",
        "سطر سوم:\n",
        "$$(-1)^4 \\times (-1) \\times\n",
        "det \\left( \n",
        "\\begin{bmatrix}\n",
        "0&3 \\\\\n",
        "-2&5 \\\\\n",
        "\\end{bmatrix} \\right) + (-1)^5 \\times 1 \\times \n",
        "det \\left( \\begin{bmatrix}\n",
        "1&3 \\\\\n",
        "13&5 \\\\\n",
        "\\end{bmatrix} \\right) = 28\n",
        "$$\n",
        "\n",
        "سطر دوم:\n",
        "$$(-1)^3 \\times 13 \\times\n",
        "det \\left( \\begin{bmatrix}\n",
        "0&3 \\\\\n",
        "1&0 \\\\\n",
        "\\end{bmatrix} \\right) + (-1)^4 \\times -2 \\times \n",
        "det \\left( \\begin{bmatrix}\n",
        "1&3 \\\\\n",
        "-1&0 \\\\\n",
        "\\end{bmatrix} \\right) + (-1)^5 \\times 5 \\times \n",
        "det \\left( \\begin{bmatrix}\n",
        "1&0 \\\\\n",
        "-1&1 \\\\\n",
        "\\end{bmatrix} \\right) = 28\n",
        "$$\n",
        "ستون اول:\n",
        "$$(-1)^2 \\times 1 \\times\n",
        "det \\left( \\begin{bmatrix}\n",
        "-2&5 \\\\\n",
        "1&0 \\\\\n",
        "\\end{bmatrix} \\right) + (-1)^3 \\times 13 \\times \n",
        "det \\left( \\begin{bmatrix}\n",
        "0&3 \\\\\n",
        "1&0 \\\\\n",
        "\\end{bmatrix} \\right) + (-1)^4 \\times -1 \\times \n",
        "det \\left( \\begin{bmatrix}\n",
        "0&3 \\\\\n",
        "-2&5 \\\\\n",
        "\\end{bmatrix} \\right) = 28\n",
        "$$\n",
        "ستون دوم:\n",
        "$$(-1)^3 \\times 0 + (-1)^4 \\times -2 \\times \n",
        "det \\left( \\begin{bmatrix}\n",
        "1&3 \\\\\n",
        "-1&0 \\\\\n",
        "\\end{bmatrix} \\right) + (-1)^5 \\times 1 \\times \n",
        "det \\left( \\begin{bmatrix}\n",
        "1&3 \\\\\n",
        "13&5 \\\\\n",
        "\\end{bmatrix} \\right) = 28\n",
        "$$\n",
        "<br>\n",
        "چند خاصیت مهم از دترمینان ها:\n",
        "1. $det(I)=1$\n",
        "2. $det(A^T)=det(A)$\n",
        "3. $det(AB)=det(A)det(B)$\n",
        "4. $det(A^{-1}) = det(A)^{-1}$\n",
        "5. $det(\\alpha A) = α^n det(A)$\n",
        "\n",
        "</div></font>"
      ]
    },
    {
      "cell_type": "code",
      "source": [
        "a = np.array([ [5, 4], \n",
        "               [7, 10] ])\n",
        "\n",
        "b = np.array([ [2, -1, 5],\n",
        "               [0, 3, 4],\n",
        "               [2, 2, -2] ])\n",
        "c = np.identity(2)\n",
        "aT = a.T\n",
        "\n",
        "a_det = np.linalg.det(a)\n",
        "b_det = np.linalg.det(b)\n",
        "\n",
        "\n",
        "print('det(A): {}' .format(int(a_det)))\n",
        "print('det(B): {}' .format(int(b_det)))\n",
        "\n",
        "print('is det(I) = 1? -> {}' .format(np.linalg.det(c) == 1))\n",
        "print('is det(AT) == det(A)? -> {}' .format(np.linalg.det(aT) == np.linalg.det(a)))"
      ],
      "metadata": {
        "colab": {
          "base_uri": "https://localhost:8080/"
        },
        "id": "FNG8fzaeopGa",
        "outputId": "637148fa-fa5e-48d0-add2-11d5604e8c62"
      },
      "execution_count": null,
      "outputs": [
        {
          "output_type": "stream",
          "name": "stdout",
          "text": [
            "det(A): 21\n",
            "det(B): -65\n",
            "is det(I) = 1? -> True\n",
            "is det(AT) == det(A)? -> True\n"
          ]
        }
      ]
    },
    {
      "cell_type": "markdown",
      "source": [
        "<font face=\"Calibri\" size=4><div dir=rtl>\n",
        "<font color=\"red\" size=5>4. اثر ماتریس ها</font>\n",
        "<br>\n",
        "\n",
        "<b>اثر</b>\n",
        " یک ماتریس که با نماد \n",
        "$trace(A)$\n",
        "نمایش داده می شود، به صورت زیر است\n",
        "$$trace(A)=\\sum^{n}_{i=1} a_{ii}$$\n",
        "\n",
        "خواص زیر برای اثر ماتریس ها برقرار است:\n",
        "1. trace(A+B) = trace(A) + trace(B)\n",
        "2. trace(α A) = α trace(A)\n",
        "3. trace($A^T$) = trace(A)\n",
        "4. trace(ABCD) = trace(BCDA) = trace(CDAB) = trace(ِDABC)\n",
        "\n",
        "<br>\n",
        "\n",
        "اگر A یک ماتریس \n",
        "$n \\times n$\n",
        "باشد، آنگاه عبارات زیر معادل هستند:\n",
        "\n",
        "1. \n",
        "ماتریس A نامنفرد(ناتکین، معکوس پذیر) است\n",
        "2. \n",
        "دترمینان ماتریس A مخالف صفر است\n",
        "3. \n",
        "دستگاه\n",
        "$AX=B$\n",
        "به ازای هر b جواب منحصر به فرد دارد\n",
        "4. \n",
        "$Rank(A)=n$\n",
        "5. \n",
        "$AX=0$\n",
        "جواب بدیهی صفر دارد\n",
        "6. \n",
        "ماتریس A با ماتریس\n",
        "$I_n$\n",
        "هم ارز سطری است\n",
        "7. \n",
        "ستون‎های ماتریس A مستقل خطی هستند\n",
        "8. \n",
        "سطر‎های ماتریس A مستقل خطی هستند\n",
        "9. \n",
        "$dim(N(A))=0$\n",
        "10. \n",
        "مقادیر ویژه ماتریس A مخالف صفر هستند\n",
        "11. \n",
        "یکتا جواب دستگاه\n",
        "$X = A^{-1}B$\n",
        "است.\n",
        "12. \n",
        "$dim(R(A))=n$\n",
        "\n",
        "\n",
        "ماتریس مربعی A را \n",
        "**مثبت معین**\n",
        " گوییم هرگاه برای هر بردار \n",
        "$X\\neq 0$\n",
        "داشته باشیم :\n",
        "$$X^T(\\frac{A+A^T}{2})X>0$$\n",
        "\n",
        "\n",
        "**مثال)**\n",
        "نشان دهید ماتریس داده شده مثبت معین است.\n",
        "$A=\\begin{bmatrix}\n",
        "1&1\\\\0&1\n",
        "\\end{bmatrix}$\n",
        "\n",
        "**حل)**\n",
        "باید نشان دهیم برای هر \n",
        "$X=\\begin{bmatrix}\n",
        "x_1\\\\x_2\n",
        "\\end{bmatrix}\\neq0$\n",
        "داریم :\n",
        "$X^T(\\frac{A+A^T}{2})X>0$\n",
        "\n",
        "ابتدا توجه داشته باشید که \n",
        "$$\\frac{1}{2}(A+A^T)=\\frac{1}{2}\\left(\\begin{bmatrix}\n",
        "1&1\\\\0&1\n",
        "\\end{bmatrix}+\\begin{bmatrix}\n",
        "1&0\\\\1&1\n",
        "\\end{bmatrix}\\right)=\\frac{1}{2}\\begin{bmatrix}\n",
        "2&1\\\\1&2\n",
        "\\end{bmatrix}=\\begin{bmatrix}\n",
        "1 &\\frac{1}{2}\\\\ \\frac{1}{2}&1\n",
        "\\end{bmatrix}$$\n",
        "\n",
        "از طرفی داریم:\n",
        "$$\n",
        "X^T(\\frac{A+A^T}{2})X=[x_1 \\; x_2 ]\n",
        "\\begin{bmatrix}\n",
        "1&\\frac{1}{2}\\\\\n",
        "\\frac{1}{2}&1\n",
        "\\end{bmatrix}\n",
        "\\begin{bmatrix}\n",
        "x_1\\\\x_2\n",
        "\\end{bmatrix}=[x_1 \\; x_2]\n",
        "\\begin{bmatrix}\n",
        "x_1+\\frac{1}{2}x_2\\\\\n",
        "\\frac{1}{2}x_1+x_2\n",
        "\\end{bmatrix}\n",
        "$$\n",
        "$$=x_1^2+x_1x_2+x_2^2=\\frac{1}{2}(x_1^2+x_2^2+(x_1+x_2)^2)>0$$\n",
        "لذا ماتریس A مثبت معین است.\n",
        "\n",
        "\n",
        "**توجه)**\n",
        "در بیشتر موارد کاربردی برای مثبت معین بودن، ماتریس A متقارن است و لذا تعریف به صورت زیر خلاصه می‌شود.\n",
        "$$A^T=A \\Longrightarrow X^T(\\frac{A+A^T}{2})X=X^T(\\frac{A+A}{2})X=X^TAX > 0$$\n",
        "بنابراین ماتریس متقارن A را مثبت معین گوییم هرگاه برای هر \n",
        "$X\\neq0$\n",
        "داشته باشیم : \n",
        "$$X^TAX>0$$\n",
        "\n",
        "</div></font>\n",
        "\n",
        "\n"
      ],
      "metadata": {
        "id": "abyZD8Qtn8ZT"
      }
    },
    {
      "cell_type": "code",
      "source": [
        "a = np.array([ [5, 4], \n",
        "               [7, 10] ])\n",
        "\n",
        "b = np.array([ [2, -1, 5],\n",
        "               [0, 3, 4],\n",
        "               [2, 2, -2] ])\n",
        "\n",
        "a_trace = np.trace(a)\n",
        "b_trace = np.trace(b)\n",
        "\n",
        "print('trace(a): {}' .format(a_trace))\n",
        "print('trace(b): {}' .format(b_trace))"
      ],
      "metadata": {
        "colab": {
          "base_uri": "https://localhost:8080/"
        },
        "id": "zQIurP9hyrKt",
        "outputId": "a246baaf-f40d-4817-96b6-db5d113ef547"
      },
      "execution_count": null,
      "outputs": [
        {
          "output_type": "stream",
          "name": "stdout",
          "text": [
            "trace(a): 15\n",
            "trace(b): 3\n"
          ]
        }
      ]
    },
    {
      "cell_type": "markdown",
      "metadata": {
        "id": "GGw4sQZSXZmO"
      },
      "source": [
        "<font face=\"Calibri\" size=4><div dir=rtl>\n",
        "<font color=\"red\" size=5>5. نرم‎های برداری</font>\n",
        "<br>\n",
        "\n",
        "<b>فضای متریک یا متری</b>\n",
        " S به مجموعه ای گفته می شود که مفهومی از فاصله با تابع\n",
        "$d:S \\times S → \\mathbf{R}$\n",
        "با شرایط زیر بین اعضای آن تعریف شده باشد:\n",
        "\n",
        "($x,y,z \\in S$)\n",
        "\n",
        "1. $d(x,y) ≥ 0$\n",
        "2. $d(x,y) = 0 ⇔ x=y$\n",
        "3. $d(x,y) = d(y,x)$\n",
        "4. $d(x,z) \\le d(x,y)+d(y,z)$\n",
        "\n",
        "\n",
        "هر تابع به صورت\n",
        "$\\| \\cdot \\| : \\mathbf{R}^n → \\mathbf{R}^{+}$\n",
        "که در خواص سه گانه\n",
        "1. $\\|X\\|=0 ⇔ X=0 \\qquad ∀X \\in \\mathbf{R}^{n}$\n",
        "2. $\\| \\alpha X\\|= |\\alpha| \\|X\\| \\qquad ∀α \\in \\mathbf{R}$\n",
        "3. $\\|X+Y\\| \\leq \\|X\\|+\\|Y\\| \\qquad ∀X,Y \\in \\mathbf{R}^{n}$\n",
        "\n",
        "صدق کند یک \n",
        "<b>نرم برداری</b>\n",
        " روی فضای برداری \n",
        "$\\mathbf{R}^n$\n",
        "نامیده می شود.\n",
        "\n",
        "یکی از نرم های معروف نرم \n",
        "$\\ell_2$\n",
        "است که به صورت زیر تعریف می شود:\n",
        "\n",
        "$$\\|\\mathbf{X}\\|_2 = \\sqrt{\\sum_{i=1}^n x_i^2} = \\langle \\mathbf{X},\\mathbf{X} ⟩ $$\n",
        "\n",
        "یکی دیگر از نرم های معروف نرم \n",
        "$\\ell_1$\n",
        "است که به صورت زیر تعریف می شود:\n",
        "\n",
        "$$\\|\\mathbf{X}\\|_1 = \\sum_{i=1}^n \\left|x_i \\right|.$$\n",
        "\n",
        "<b>قضیه فیثاغورس)</b>\n",
        "اگر X بر Y عمود باشد یا به طور معادل\n",
        "$⟨ X,Y ⟩ = 0$\n",
        "آنگاه\n",
        "$$\n",
        "\\| \\mathbf{X} + \\mathbf{Y} \\|_2^2 =  \\| \\mathbf{X} \\|_2^2 +  \\| \\mathbf{Y} \\|_2^2\n",
        "$$\n",
        "\n",
        "<b> نامساوی کشی-شوارتز)</b>\n",
        "$$\n",
        "| ⟨ X,Y ⟩ | \\leq  \\| \\mathbf{X} \\|_2   \\| \\mathbf{Y} \\|_2\n",
        "$$\n",
        "\n",
        "در کاربردهایی از یادگیری ماشین و یادگیری عمیق به دنبال بیشینه کردن یا کمینه کردن فاصله بازنمایی‎هایی از دادهایمان هستیم مثلا کمینه کردن فاصله بین بازنمایی تصاویر یک فرد به ما در تشخیص چهره وی کمک می کند که در این موارد نرم‎ها به عنوان معیاری برای توصیف فاصله بردارها به ما کمک می کنند. \n",
        "\n",
        "تابع\n",
        "$\\|.\\|:\\mathbf{R}^{n\\times n}\\longrightarrow \\mathbf{R} ^+$\n",
        " را یک نرم ماتریسی گوییم هرگاه در شرایط ۳ گانه زیر صدق کند.\n",
        "\n",
        " 1. $ \\|A\\| \\geq 0 , \\|A\\|=0 \\iff A=0 \\hspace{.2cm} \\forall A \\in \\mathbf{R}^{n \\times n}$\n",
        " 2. $\t\\|\\alpha A\\|=|\\alpha| \\|A\\|A \\hspace{ .2cm} \\forall \\alpha \\in \\mathbf{R}$\n",
        " 3. $ \\|A+B\\| \\leq \\|A\\|+\\|B\\| \\hspace{.3cm} \\forall A,B \\in \\mathbf{R}^{n \\times n}$\n",
        "\n",
        "  توجه کنید خاصیت سوم همان نامساوی مثلث است  که البته گاهی اوقات به آن سازگاری جمعی هم گفته می‌شود.\n",
        " \n",
        "   هر تابع \n",
        " $\\|.\\|$\n",
        " که در خواص سه گانه بالا صدق کند یک نرم ماتریس خواهد بود. البته در کاربردها و آنالیز همگرایی روش‎ها اغلب  لازم است یک نرم ماتریسی خاصیت اضافی دیگری به صورت \n",
        " $\\|AB\\|\\leq\\|A\\|\\|B\\| \\hspace{.3cm} (4)$\n",
        "داشته باشد که به آن خاصیت ضربی گفته می‌شود.\n",
        "\n",
        "بنابراین یک نرم ممکن است فقط در ۳ خاصیت گفته شده صدق کن و در خاصیت چهارم صدق نکند . اما همانطور که گفته شد اگر نرم ماتریسی که با آن کار می کنیم در خاصیت ضربی هم صدق کند بسیار مناسب و کاربردی تر خواهد بود. \t\n",
        "\n",
        "اولین نرمی که ظاهراً تعمیم نرم ۲ برداری برای ماتریس‌هاست نرم فربنیوس است که به صورت \n",
        "$\\|.\\|_F$\n",
        "نمایش داده می‌شود و برابر است با جذر مجموع مربعات درایه‌های ماتریس.\n",
        "به راحتی می‌توان نشان داد که هر ۴ شکلی که برای نرم فربنیوس در ادامه آورده شده‌اند باهم معادل می‌باشند.\n",
        "\n",
        "1. فرض کنید A ماتریسی \n",
        "$n\\times n$\n",
        "باشد آنگاه:\n",
        "$$\\|A\\|_F=\\sqrt{trace(A^TA)}=\\sqrt{trace(AA^T)}$$\n",
        "\n",
        "2. فرض کنید \n",
        "$A=(a_{ij})$\n",
        "آنگاه:\n",
        "$$\\|A\\|_F=\\sqrt{\\sum_{i=1}^{n}\\sum_{j=1}^{n}\\mid a_{ij}\\mid ^2}$$\n",
        "\n",
        "3. فرض کنید نمایش ستونی A به صورت \n",
        "$A=[a_1 \\hspace{.2cm} a_2 \\hspace{.2cm} ... \\hspace{.2cm} a_n]$\n",
        "باشد، آنگاه:\n",
        "$$\\|A\\|_F=\\sqrt{\\sum_{i=1}^{n}\\|a_i\\|_2^2}$$\n",
        "\n",
        "4. فرض کنید نمایش سطری A به صورت \n",
        "$A=\\begin{bmatrix}\n",
        "a'_1\\\\\\vdots \\\\ a'_n\n",
        "\\end{bmatrix}$\n",
        "باشد آنگاه:\n",
        "$$\\|A\\|_F=\\sqrt{\\sum_{i=1}^{n}\\|a'_i\\|_2^2}$$\n",
        "\n",
        "\n",
        "  دسته‌ای دیگر از نرم‎های ماتریسی که بر اساس یک نرم برداری به صورت \n",
        " $$\\|A\\|=\\max_{X\\neq 0} \\frac{\\|AX\\|}{\\|X\\|}$$\n",
        " ساخته می‌شوند را نرم القایی می‌نامیم. توجه کنید که دو نرم سمت راست رابطه‌ی فوق نرم برداری بوده و نرم سمت چپ رابطه بیانگر یک نرم ماتریسی است.\n",
        "\n",
        "<b>مثال)</b>\n",
        "با استفاده از تعریف، مقدار \n",
        "$\\|A\\|_1$\n",
        "  را برای ماتریس \n",
        "  $A=\\begin{bmatrix}\n",
        "  0&-1\\\\2&0\n",
        "  \\end{bmatrix}$\n",
        "  محاسبه کنید.\n",
        "\n",
        "<b>حل)</b>\n",
        "فرض کنید \n",
        "$X\\in \\mathbf{R}^2$\n",
        "طوری باشد که \n",
        "$\\|X\\|_1=1$\n",
        "یعنی اگر \n",
        "$X=\\begin{bmatrix}\n",
        "x_1\\\\x_2\n",
        "\\end{bmatrix}$\n",
        "آنگاه \n",
        "$\\mid x_1 \\mid + \\mid x_2 \\mid =1 $\n",
        "از طرفی داریم:\n",
        "<br>\n",
        "\n",
        "$$AX=\\begin{bmatrix}\n",
        "0&-1\\\\2&0\n",
        "\\end{bmatrix}\\begin{bmatrix}\n",
        "x_1\\\\x_2\n",
        "\\end{bmatrix}=\\begin{bmatrix}\n",
        "-x_2\\\\2x_1\n",
        "\\end{bmatrix}$$\n",
        "\n",
        "بنابراین داریم :\n",
        "$\\|AX\\|_1=\\left \\| \\begin{bmatrix}\n",
        "-x_2\\\\2x_1\n",
        "\\end{bmatrix} \\right \\|_1=\\mid x_2 \\mid + 2\\mid x_1 \\mid$\n",
        "لذا داریم :\n",
        "$$\\|A\\|_1=\\max_{\\|X\\|_1=1}\\|AX\\|_1=\\max_{\\mid x_1 \\mid + \\mid x_2 \\mid =1}\\left \\{ \\mid x_2 \\mid +2\\mid x_1 \\mid \\right \\}$$\n",
        "مساله اخیر یک مساله بهینه‌سازی (ماکزیمم) غیر خطی (به دلیل وجود قدر مطلق در تابع هدف \n",
        "$|x_2|+2|x_1|$\n",
        ")\n",
        "مقید است. در واقع یک قید غیر خطی به صورت\n",
        "$|x_1|+|x_2|=1$\n",
        "مفروض است.\n",
        "$$\\max |x_2|+2|x_1|\\hspace{5cm}$$\n",
        "$$ s.t  \\hspace{7cm} $$\n",
        "$$|x_1|+|x_2|=1\\hspace{5cm}$$\n",
        "که حل آن را به خواننده واگذار می کنیم.\n",
        "\n",
        "<b>قضیه)</b>\n",
        "هرگاه \n",
        "$A$\n",
        "یک ماتریس حقیقی \n",
        "$n\\times n$\n",
        "باشد، آنگاه برای نرم‌های ماتریس القایی داریم:\n",
        "\n",
        "  $$(1)\\quad ||A||_1=\\max_{1\\le j\\le n}\\sum_{i=1}^{n}\n",
        "  |a_{ij}|$$\n",
        "  \n",
        "  $$(2)\\quad ||A||_\\infty=\n",
        "  \\max_{1\\le i\\le n}\\sum_{j=1}^n\n",
        "  |a_{ij}|$$\n",
        "\n",
        "</div></font>"
      ]
    },
    {
      "cell_type": "code",
      "source": [
        "a = np.array([1, 5, 6, 15, 8, 4+2j, 0-7j, 11, 0+5j])\n",
        "b = a.reshape(3, 3)\n",
        "\n",
        "L1 = np.linalg.norm(a, 1)\n",
        "L2 = np.linalg.norm(a, 2)\n",
        "L_inf = np.linalg.norm(a, np.inf)\n",
        "L_frobenius = np.linalg.norm(b, 'fro')\n",
        "\n",
        "print('norm1(a): {}' .format(L1))\n",
        "print('norm2(a): {}' .format(L2))\n",
        "print('norm_inf(a): {}' .format(L_inf))\n",
        "print('norm_frobenius(a): {}\\n' .format(L_frobenius))\n",
        "\n",
        "\n",
        "# calculate norms for matrix\n",
        "X = np.array([ [-1, 0, 2],\n",
        "               [0, 1, 3] ])\n",
        "LM1 = np.max(np.sum(X, 0))\n",
        "LM2 = np.max(np.sum(X, 1))\n",
        "LMF = np.sqrt(np.trace(np.dot(X.T, X)))\n",
        "\n",
        "print('norm1(X): {}' .format(LM1))\n",
        "print('norm2(X): {}' .format(LM2))\n",
        "print('norm_frobenius(X): {}' .format(LMF))\n",
        "\n"
      ],
      "metadata": {
        "colab": {
          "base_uri": "https://localhost:8080/"
        },
        "id": "-t-Hwx3N0m0u",
        "outputId": "19a63014-ff8f-43c6-91c5-e6bef52522ea"
      },
      "execution_count": 22,
      "outputs": [
        {
          "output_type": "stream",
          "name": "stdout",
          "text": [
            "norm1(a): 62.47213595499958\n",
            "norm2(a): 23.790754506740637\n",
            "norm_inf(a): 15.0\n",
            "norm_frobenius(a): 23.790754506740637\n",
            "\n",
            "norm1(X): 5\n",
            "norm2(X): 4\n",
            "norm_frobenius(X): 3.872983346207417\n"
          ]
        }
      ]
    },
    {
      "cell_type": "markdown",
      "source": [
        "<font face=\"Calibri\" size=4><div dir=rtl>\n",
        "<font color=\"red\" size=5>6. تعریف عبارات سیمبولیک در پایتون</font>\n",
        "<br>\n",
        "مشابه با syms در متلب\n",
        "</div></font>"
      ],
      "metadata": {
        "id": "eMR7Vx-h5JiB"
      }
    },
    {
      "cell_type": "code",
      "source": [
        "import sympy as sp\n",
        "\n",
        "x = sp.symbols('x')\n",
        "y = sp.symbols('y')\n",
        "\n",
        "f = sp.sin(x) + sp.cos(y) + sp.tan(x)\n",
        "y = f * 5\n",
        "\n",
        "print(f)\n",
        "print(y)"
      ],
      "metadata": {
        "colab": {
          "base_uri": "https://localhost:8080/"
        },
        "id": "MbGvwzfb5IW1",
        "outputId": "c0eff3db-47c1-4894-933b-56bd5e547409"
      },
      "execution_count": null,
      "outputs": [
        {
          "output_type": "stream",
          "name": "stdout",
          "text": [
            "sin(x) + cos(y) + tan(x)\n",
            "5*sin(x) + 5*cos(y) + 5*tan(x)\n"
          ]
        }
      ]
    },
    {
      "cell_type": "markdown",
      "metadata": {
        "id": "Ec3_yEmj2Qu_"
      },
      "source": [
        "<font face=\"Calibri\" size=4><div dir=rtl>\n",
        "<font color=\"red\" size=5>7. تنسورها</font>\n",
        "<br>\n",
        "تنسورها تعمیمی از اسکالرها، بردارها و ماتریس ها برای ابعاد بالاتر از 2 هستند. \n",
        "\n",
        "</div></font>"
      ]
    },
    {
      "cell_type": "markdown",
      "metadata": {
        "id": "OfAI1t6MC5XN"
      },
      "source": [
        "\n",
        "<div>\n",
        "<center>\n",
        "<img src=\"https://www.kdnuggets.com/wp-content/uploads/scalar-vector-matrix-tensor.jpg\" width=\"500\">\n",
        "</center>\n",
        "</div>\n"
      ]
    },
    {
      "cell_type": "markdown",
      "metadata": {
        "id": "kxIwzwMSwkhb"
      },
      "source": [
        "<font face=\"Calibri\" size=4><div dir=rtl>\n",
        "فرض کنید عکسی سیاه و سفید (grayscale) در اختیار دارید در این صورت می توانید آن \n",
        "را در یک ماتریس ذخیره کنید. به این صورت که به هر پیکسل مقداری بین 0 تا 255 اختصاص دهید و در یک خانه ماتریس ذخیره کنید. در یادگیری ماشین و یادگیری عمیق عموما با داده‌ها با ابعاد بالا سر و کار داریم. به طور مثال برای ذخیره سازی یک عکس رنگی در فضای رنگی RGB نیاز به یک تنسور 3 بعدی داریم.همچنین برای نگهداری مجموعه ای از عکس‎ها به تنسور 4 بعدی نیاز داریم.\n",
        "</div></font>"
      ]
    },
    {
      "cell_type": "markdown",
      "metadata": {
        "id": "CiQ6uqeZEnl2"
      },
      "source": [
        "\n",
        "<div>\n",
        "<center>\n",
        "<img src=\"https://image.slidesharecdn.com/tensordecomposition-170301235239/95/a-brief-survey-of-tensors-5-638.jpg\" width=\"500\">\n",
        "</center>\n",
        "</div>\n"
      ]
    },
    {
      "cell_type": "markdown",
      "metadata": {
        "id": "-tP7FngIwkj4"
      },
      "source": [
        "<font face=\"Calibri\" size=4><div dir=rtl>\n",
        "در ادامه یک تنسور سه بعدی تولید می کنیم\n",
        "</div></font>"
      ]
    },
    {
      "cell_type": "code",
      "execution_count": null,
      "metadata": {
        "colab": {
          "base_uri": "https://localhost:8080/"
        },
        "id": "pBvWQSYmF7sM",
        "outputId": "747a9ea3-fa63-45f3-9f1f-a69123ce6911"
      },
      "outputs": [
        {
          "data": {
            "text/plain": [
              "array([[[ 0,  1,  2,  3],\n",
              "        [ 4,  5,  6,  7],\n",
              "        [ 8,  9, 10, 11]],\n",
              "\n",
              "       [[12, 13, 14, 15],\n",
              "        [16, 17, 18, 19],\n",
              "        [20, 21, 22, 23]]])"
            ]
          },
          "execution_count": 11,
          "metadata": {},
          "output_type": "execute_result"
        }
      ],
      "source": [
        "np.arange(24).reshape(2, 3, 4)"
      ]
    },
    {
      "cell_type": "markdown",
      "metadata": {
        "id": "HtrxhvV7JnUs"
      },
      "source": [
        "<font face=\"Calibri\" size=4><div dir=rtl>\n",
        "<font color=\"red\" size=5>7.1. عملیات روی تنسور‎ها</font>\n",
        "<br>\n",
        "ابتدا ضرب درایه‎ای (Hadamard product)\n",
        "را معرفی می کنیم. فرض کنید\n",
        "$\\mathbf{A}, \\mathbf{B} \\in \\mathbb{R}^{m \\times n}$\n",
        "در این صورت داریم:\n",
        "$$\n",
        "\\begin{split}\\mathbf{A} \\odot \\mathbf{B} =\n",
        "\\begin{bmatrix}\n",
        "    a_{11}  b_{11} & a_{12}  b_{12} & \\dots  & a_{1n}  b_{1n} \\\\\n",
        "    a_{21}  b_{21} & a_{22}  b_{22} & \\dots  & a_{2n}  b_{2n} \\\\\n",
        "    \\vdots & \\vdots & \\ddots & \\vdots \\\\\n",
        "    a_{m1}  b_{m1} & a_{m2}  b_{m2} & \\dots  & a_{mn}  b_{mn}\n",
        "\\end{bmatrix}.\\end{split}\n",
        "$$\n",
        "\n",
        "مثال:\n",
        "\n",
        "</div></font>"
      ]
    },
    {
      "cell_type": "code",
      "execution_count": null,
      "metadata": {
        "colab": {
          "base_uri": "https://localhost:8080/"
        },
        "id": "r5u6aKrELBd_",
        "outputId": "b67c7393-ed6d-4224-d25b-3100cfab244a"
      },
      "outputs": [
        {
          "data": {
            "text/plain": [
              "array([[ 0.,  1.,  4.],\n",
              "       [ 9., 16., 25.]], dtype=float32)"
            ]
          },
          "execution_count": 13,
          "metadata": {},
          "output_type": "execute_result"
        }
      ],
      "source": [
        "A = np.arange(6, dtype=np.float32).reshape(2, 3)\n",
        "B = A.copy()  # Assign a copy of `A` to `B` by allocating new memory\n",
        "A * B"
      ]
    },
    {
      "cell_type": "markdown",
      "metadata": {
        "id": "erdcTaC4uvvy"
      },
      "source": [
        "<font face=\"Calibri\" size=4><div dir=rtl>\n",
        "<font color=\"red\" size=5>منابع</font>\n",
        "<br>\n",
        "\n",
        "1. کتاب Introduction to Linear Algebra-Gilbert Strang\n",
        "2. [داکیومنت های کتابخانه numpy](https://numpy.org/doc/stable/reference/routines.linalg.html)\n",
        "\n",
        "\n",
        "\n",
        "</div></font>"
      ]
    }
  ],
  "metadata": {
    "colab": {
      "provenance": [],
      "include_colab_link": true
    },
    "kernelspec": {
      "display_name": "Python 3",
      "language": "python",
      "name": "python3"
    },
    "language_info": {
      "name": "python",
      "version": "3.10.6"
    },
    "vscode": {
      "interpreter": {
        "hash": "69c7cc3dc3691d130629beb11978457cf6ebe1c56c2644408165c4e35a7766bc"
      }
    }
  },
  "nbformat": 4,
  "nbformat_minor": 0
}